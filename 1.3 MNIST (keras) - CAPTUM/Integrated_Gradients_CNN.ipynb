{
 "cells": [
  {
   "cell_type": "code",
   "execution_count": 391,
   "id": "1da02378",
   "metadata": {},
   "outputs": [],
   "source": [
    "import numpy as np\n",
    "import pandas as pd\n",
    "from keras.models import load_model\n",
    "from tensorflow.keras.datasets import mnist\n",
    "\n",
    "import matplotlib.pylab as plt\n",
    "import numpy as np\n",
    "import tensorflow as tf\n",
    "\n",
    "\n",
    "\n",
    "import matplotlib.pyplot as plt\n",
    "from scipy import ndimage\n",
    "from IPython.display import Image\n",
    "\n",
    "import tensorflow as tf\n",
    "from tensorflow import keras\n",
    "from keras import layers\n",
    "\n",
    "\n",
    "\n",
    "#https://keras.io/examples/vision/integrated_gradients/#lets-testdrive-it\n"
   ]
  },
  {
   "cell_type": "code",
   "execution_count": 392,
   "id": "82636994",
   "metadata": {},
   "outputs": [
    {
     "name": "stdout",
     "output_type": "stream",
     "text": [
      "Model: \"sequential_19\"\n",
      "_________________________________________________________________\n",
      " Layer (type)                Output Shape              Param #   \n",
      "=================================================================\n",
      " conv2d_19 (Conv2D)          (None, 26, 26, 32)        896       \n",
      "                                                                 \n",
      " max_pooling2d_19 (MaxPoolin  (None, 13, 13, 32)       0         \n",
      " g2D)                                                            \n",
      "                                                                 \n",
      " flatten_19 (Flatten)        (None, 5408)              0         \n",
      "                                                                 \n",
      " dense_38 (Dense)            (None, 128)               692352    \n",
      "                                                                 \n",
      " dense_39 (Dense)            (None, 10)                1290      \n",
      "                                                                 \n",
      "=================================================================\n",
      "Total params: 694,538\n",
      "Trainable params: 694,538\n",
      "Non-trainable params: 0\n",
      "_________________________________________________________________\n"
     ]
    }
   ],
   "source": [
    "# Cargamos el modelo guardado.\n",
    "cnn_minst = load_model('../Notebook Keras/trained_model/')\n",
    "\n",
    "# Comprobamos que se ha cargado bien visualizando la secuencia de capas.\n",
    "# Size of the input image\n",
    "img_size = (28, 28, 3)\n",
    "\n",
    "cnn_minst.summary()"
   ]
  },
  {
   "cell_type": "code",
   "execution_count": 393,
   "id": "9bd60e34",
   "metadata": {},
   "outputs": [],
   "source": [
    "# Cargamos los datos de entrenamiento y prueba en sendos arrays.\n",
    "(X_train, y_train), (X_test, y_test) = mnist.load_data()\n",
    "X_train_scaled = X_train / 255.0\n",
    "X_test_scaled = X_test / 255.0\n",
    "\n",
    "X_train = X_train.reshape((-1,28,28,1)) / 255.0 \n",
    "X_test = X_test.reshape((-1,28,28,1)) / 255.0 \n",
    "\n",
    "\n",
    "\n",
    "X_train_scaled = X_train_scaled.reshape((-1,28,28,1)) / 255.0 \n",
    "X_test_scaled = X_test_scaled.reshape((-1,28,28,1)) / 255.0 \n"
   ]
  },
  {
   "attachments": {},
   "cell_type": "markdown",
   "id": "d9e2bc53",
   "metadata": {},
   "source": [
    "Transformamos nuestra funcion a 3 canales"
   ]
  },
  {
   "cell_type": "code",
   "execution_count": 394,
   "id": "7bc5fe87",
   "metadata": {},
   "outputs": [],
   "source": [
    "# Creamos la función de conversión al tipo RGB.\n",
    "import numpy as np\n",
    "def to_rgb(x):\n",
    "    x_rgb = np.zeros((x.shape[0], 28, 28, 3))\n",
    "    for i in range(3):\n",
    "        x_rgb[..., i] = x[..., 0]\n",
    "    return x_rgb\n",
    "\n",
    "# La aplicamos a los dos data sets.\n",
    "X_train = to_rgb(X_train)\n",
    "X_test = to_rgb(X_test)"
   ]
  },
  {
   "cell_type": "code",
   "execution_count": 395,
   "id": "26186278",
   "metadata": {},
   "outputs": [
    {
     "name": "stdout",
     "output_type": "stream",
     "text": [
      "(60000, 28, 28, 3) (10000, 28, 28, 3)\n"
     ]
    }
   ],
   "source": [
    "print(X_train.shape, X_test.shape)"
   ]
  },
  {
   "attachments": {},
   "cell_type": "markdown",
   "id": "c7998e53",
   "metadata": {},
   "source": [
    "### Establecer un Baseline"
   ]
  },
  {
   "attachments": {},
   "cell_type": "markdown",
   "id": "12e3cb3c",
   "metadata": {},
   "source": [
    "Primero estableceremos una imagen inicial para calcular la importancia de de las caracteristicas. Intuitivamente se puede pensar como principal explicacion la represntacion del impacto de la ausencia de cada pixel en una imgen predicha para contrastarla con su impacto en cada pixel de la prediccion cunaod es repsentada como input. Como resultado la eleccion del baseline juega un rol principal en la interpretacion y visualizacion de las caracteristicas y la importancia de los pixeles. \n",
    "\n",
    "Como el tamaño de nuestra imagen ya esta predefinido 28x28 creamos una imagen en negro, tambien se pueden seleccionar distintos baselines en otros colores. "
   ]
  },
  {
   "cell_type": "code",
   "execution_count": 396,
   "id": "f5e8e77d",
   "metadata": {},
   "outputs": [],
   "source": [
    "baseline = tf.zeros(shape=(28,28,3))"
   ]
  },
  {
   "cell_type": "code",
   "execution_count": 397,
   "id": "3c51974f",
   "metadata": {},
   "outputs": [
    {
     "data": {
      "image/png": "[encoded data removed]",
      "text/plain": [
       "<Figure size 640x480 with 1 Axes>"
      ]
     },
     "metadata": {},
     "output_type": "display_data"
    }
   ],
   "source": [
    "plt.imshow(baseline)\n",
    "plt.title(\"Baseline\")\n",
    "plt.axis('off')\n",
    "plt.show()"
   ]
  },
  {
   "cell_type": "code",
   "execution_count": 398,
   "id": "dd347fb1",
   "metadata": {},
   "outputs": [],
   "source": [
    "def get_img_array(img_path, size=(28, 28)):\n",
    "    # `img` is a PIL image of size 299x299\n",
    "    img = keras.utils.load_img(img_path, target_size=size)\n",
    "    # `array` is a float32 Numpy array of shape (299, 299, 3)\n",
    "    array = keras.utils.img_to_array(img)\n",
    "    # We add a dimension to transform our array into a \"batch\"\n",
    "    # of size (1, 299, 299, 3)\n",
    "    array = np.expand_dims(array, axis=0)\n",
    "    return array\n",
    "\n",
    "\n",
    "def get_gradients(img_input, top_pred_idx):\n",
    "    \"\"\"Computes the gradients of outputs w.r.t input image.\n",
    "\n",
    "    Args:\n",
    "        img_input: 4D image tensor\n",
    "        top_pred_idx: Predicted label for the input image\n",
    "\n",
    "    Returns:\n",
    "        Gradients of the predictions w.r.t img_input\n",
    "    \"\"\"\n",
    "    images = tf.cast(img_input, tf.float32)\n",
    "\n",
    "    with tf.GradientTape() as tape:\n",
    "        tape.watch(images)\n",
    "        preds = cnn_minst(images)\n",
    "        top_class = preds[:, top_pred_idx]\n",
    "\n",
    "    grads = tape.gradient(top_class, images)\n",
    "    return grads\n",
    "\n",
    "\n",
    "def get_integrated_gradients(img_input, top_pred_idx, baseline=None, num_steps=50):\n",
    "    \"\"\"Computes Integrated Gradients for a predicted label.\n",
    "\n",
    "    Args:\n",
    "        img_input (ndarray): Original image\n",
    "        top_pred_idx: Predicted label for the input image\n",
    "        baseline (ndarray): The baseline image to start with for interpolation\n",
    "        num_steps: Number of interpolation steps between the baseline\n",
    "            and the input used in the computation of integrated gradients. These\n",
    "            steps along determine the integral approximation error. By default,\n",
    "            num_steps is set to 50.\n",
    "\n",
    "    Returns:\n",
    "        Integrated gradients w.r.t input image\n",
    "    \"\"\"\n",
    "    # If baseline is not provided, start with a black image\n",
    "    # having same size as the input image.\n",
    "    if baseline is None:\n",
    "        baseline = np.zeros(img_size).astype(np.float32)\n",
    "    else:\n",
    "        baseline = baseline.astype(np.float32)\n",
    "\n",
    "    # 1. Do interpolation.\n",
    "    img_input = img_input.astype(np.float32)\n",
    "    interpolated_image = [\n",
    "        baseline + (step / num_steps) * (img_input - baseline)\n",
    "        for step in range(num_steps + 1)\n",
    "    ]\n",
    "    interpolated_image = np.array(interpolated_image).astype(np.float32)\n",
    "\n",
    "    # 2. Preprocess the interpolated images\n",
    "    interpolated_image = xception.preprocess_input(interpolated_image)\n",
    "\n",
    "    # 3. Get the gradients\n",
    "    grads = []\n",
    "    for i, img in enumerate(interpolated_image):\n",
    "        img = tf.expand_dims(img, axis=0)\n",
    "        grad = get_gradients(img, top_pred_idx=top_pred_idx)\n",
    "        grads.append(grad[0])\n",
    "    grads = tf.convert_to_tensor(grads, dtype=tf.float32)\n",
    "\n",
    "    # 4. Approximate the integral using the trapezoidal rule\n",
    "    grads = (grads[:-1] + grads[1:]) / 2.0\n",
    "    avg_grads = tf.reduce_mean(grads, axis=0)\n",
    "\n",
    "    # 5. Calculate integrated gradients and return\n",
    "    integrated_grads = (img_input - baseline) * avg_grads\n",
    "    return integrated_grads\n",
    "\n",
    "\n",
    "def random_baseline_integrated_gradients(\n",
    "    img_input, top_pred_idx, num_steps=50, num_runs=2):\n",
    "    \"\"\"Generates a number of random baseline images.\n",
    "    \n",
    "    Args:\n",
    "        img_input (ndarray): 3D image\n",
    "        top_pred_idx: Predicted label for the input image\n",
    "        num_steps: Number of interpolation steps between the baseline\n",
    "            and the input used in the computation of integrated gradients. These\n",
    "            steps along determine the integral approximation error. By default,\n",
    "            num_steps is set to 50.\n",
    "        num_runs: number of baseline images to generate\n",
    "\n",
    "    Returns:\n",
    "        Averaged integrated gradients for `num_runs` baseline images\n",
    "    \"\"\"\n",
    "    # 1. List to keep track of Integrated Gradients (IG) for all the images\n",
    "    img_size = img_input.shape[1:]  # Obtener las dimensiones de la imagen de entrada\n",
    "    integrated_grads = []\n",
    "\n",
    "    # 2. Get the integrated gradients for all the baselines\n",
    "    for run in range(num_runs):\n",
    "        baseline = np.random.random(img_size) * 255\n",
    "        igrads = get_integrated_gradients(\n",
    "            img_input=img_input,\n",
    "            top_pred_idx=top_pred_idx,\n",
    "            baseline=baseline,\n",
    "            num_steps=num_steps,\n",
    "        )\n",
    "        integrated_grads.append(igrads)\n",
    "\n",
    "    # 3. Return the average integrated gradients for the image\n",
    "    integrated_grads = tf.convert_to_tensor(integrated_grads)\n",
    "    return tf.reduce_mean(integrated_grads, axis=0)"
   ]
  },
  {
   "cell_type": "code",
   "execution_count": 399,
   "id": "8ced5af7",
   "metadata": {},
   "outputs": [],
   "source": [
    "class GradVisualizer:\n",
    "    \"\"\"Plot gradients of the outputs w.r.t an input image.\"\"\"\n",
    "\n",
    "    def __init__(self, positive_channel=None, negative_channel=None):\n",
    "        if positive_channel is None:\n",
    "            self.positive_channel = [0, 255, 0]\n",
    "        else:\n",
    "            self.positive_channel = positive_channel\n",
    "\n",
    "        if negative_channel is None:\n",
    "            self.negative_channel = [255, 0, 0]\n",
    "        else:\n",
    "            self.negative_channel = negative_channel\n",
    "\n",
    "    def apply_polarity(self, attributions, polarity):\n",
    "        if polarity == \"positive\":\n",
    "            return np.clip(attributions, 0, 1)\n",
    "        else:\n",
    "            return np.clip(attributions, -1, 0)\n",
    "\n",
    "    def apply_linear_transformation(\n",
    "        self,\n",
    "        attributions,\n",
    "        clip_above_percentile=99.9,\n",
    "        clip_below_percentile=70.0,\n",
    "        lower_end=0.2,\n",
    "    ):\n",
    "        # 1. Get the thresholds\n",
    "        m = self.get_thresholded_attributions(\n",
    "            attributions, percentage=100 - clip_above_percentile\n",
    "        )\n",
    "        e = self.get_thresholded_attributions(\n",
    "            attributions, percentage=100 - clip_below_percentile\n",
    "        )\n",
    "\n",
    "        # 2. Transform the attributions by a linear function f(x) = a*x + b such that\n",
    "        # f(m) = 1.0 and f(e) = lower_end\n",
    "        transformed_attributions = (1 - lower_end) * (np.abs(attributions) - e) / (\n",
    "            m - e\n",
    "        ) + lower_end\n",
    "\n",
    "        # 3. Make sure that the sign of transformed attributions is the same as original attributions\n",
    "        transformed_attributions *= np.sign(attributions)\n",
    "\n",
    "        # 4. Only keep values that are bigger than the lower_end\n",
    "        transformed_attributions *= transformed_attributions >= lower_end\n",
    "\n",
    "        # 5. Clip values and return\n",
    "        transformed_attributions = np.clip(transformed_attributions, 0.0, 1.0)\n",
    "        return transformed_attributions\n",
    "\n",
    "    def get_thresholded_attributions(self, attributions, percentage):\n",
    "        if percentage == 100.0:\n",
    "            return np.min(attributions)\n",
    "\n",
    "        # 1. Flatten the attributions\n",
    "        flatten_attr = attributions.flatten()\n",
    "\n",
    "        # 2. Get the sum of the attributions\n",
    "        total = np.sum(flatten_attr)\n",
    "\n",
    "        # 3. Sort the attributions from largest to smallest.\n",
    "        sorted_attributions = np.sort(np.abs(flatten_attr))[::-1]\n",
    "\n",
    "        # 4. Calculate the percentage of the total sum that each attribution\n",
    "        # and the values about it contribute.\n",
    "        cum_sum = 100.0 * np.cumsum(sorted_attributions) / total\n",
    "\n",
    "        # 5. Threshold the attributions by the percentage\n",
    "        indices_to_consider = np.where(cum_sum >= percentage)[0][0]\n",
    "\n",
    "        # 6. Select the desired attributions and return\n",
    "        attributions = sorted_attributions[indices_to_consider]\n",
    "        return attributions\n",
    "\n",
    "    def binarize(self, attributions, threshold=0.001):\n",
    "        return attributions > threshold\n",
    "\n",
    "    def morphological_cleanup_fn(self, attributions, structure=np.ones((4, 4))):\n",
    "        closed = ndimage.grey_closing(attributions, structure=structure)\n",
    "        opened = ndimage.grey_opening(closed, structure=structure)\n",
    "        return opened\n",
    "\n",
    "    def draw_outlines(\n",
    "        self, attributions, percentage=90, connected_component_structure=np.ones((3, 3))\n",
    "    ):\n",
    "        # 1. Binarize the attributions.\n",
    "        attributions = self.binarize(attributions)\n",
    "\n",
    "        # 2. Fill the gaps\n",
    "        attributions = ndimage.binary_fill_holes(attributions)\n",
    "\n",
    "        # 3. Compute connected components\n",
    "        connected_components, num_comp = ndimage.measurements.label(\n",
    "            attributions, structure=connected_component_structure\n",
    "        )\n",
    "\n",
    "        # 4. Sum up the attributions for each component\n",
    "        total = np.sum(attributions[connected_components > 0])\n",
    "        component_sums = []\n",
    "        for comp in range(1, num_comp + 1):\n",
    "            mask = connected_components == comp\n",
    "            component_sum = np.sum(attributions[mask])\n",
    "            component_sums.append((component_sum, mask))\n",
    "\n",
    "        # 5. Compute the percentage of top components to keep\n",
    "        sorted_sums_and_masks = sorted(component_sums, key=lambda x: x[0], reverse=True)\n",
    "        sorted_sums = list(zip(*sorted_sums_and_masks))[0]\n",
    "        cumulative_sorted_sums = np.cumsum(sorted_sums)\n",
    "        cutoff_threshold = percentage * total / 100\n",
    "        cutoff_idx = np.where(cumulative_sorted_sums >= cutoff_threshold)[0][0]\n",
    "        if cutoff_idx > 2:\n",
    "            cutoff_idx = 2\n",
    "\n",
    "        # 6. Set the values for the kept components\n",
    "        border_mask = np.zeros_like(attributions)\n",
    "        for i in range(cutoff_idx + 1):\n",
    "            border_mask[sorted_sums_and_masks[i][1]] = 1\n",
    "\n",
    "        # 7. Make the mask hollow and show only the border\n",
    "        eroded_mask = ndimage.binary_erosion(border_mask, iterations=1)\n",
    "        border_mask[eroded_mask] = 0\n",
    "\n",
    "        # 8. Return the outlined mask\n",
    "        return border_mask\n",
    "\n",
    "    def process_grads(\n",
    "        self,\n",
    "        image,\n",
    "        attributions,\n",
    "        polarity=\"positive\",\n",
    "        clip_above_percentile=99.9,\n",
    "        clip_below_percentile=0,\n",
    "        morphological_cleanup=False,\n",
    "        structure=np.ones((3, 3)),\n",
    "        outlines=False,\n",
    "        outlines_component_percentage=90,\n",
    "        overlay=True,\n",
    "    ):\n",
    "        if polarity not in [\"positive\", \"negative\"]:\n",
    "            raise ValueError(\n",
    "                f\"\"\" Allowed polarity values: 'positive' or 'negative'\n",
    "                                    but provided {polarity}\"\"\"\n",
    "            )\n",
    "        if clip_above_percentile < 0 or clip_above_percentile > 100:\n",
    "            raise ValueError(\"clip_above_percentile must be in [0, 100]\")\n",
    "\n",
    "        if clip_below_percentile < 0 or clip_below_percentile > 100:\n",
    "            raise ValueError(\"clip_below_percentile must be in [0, 100]\")\n",
    "\n",
    "        # 1. Apply polarity\n",
    "        if polarity == \"positive\":\n",
    "            attributions = self.apply_polarity(attributions, polarity=polarity)\n",
    "            channel = self.positive_channel\n",
    "        else:\n",
    "            attributions = self.apply_polarity(attributions, polarity=polarity)\n",
    "            attributions = np.abs(attributions)\n",
    "            channel = self.negative_channel\n",
    "\n",
    "        # 2. Take average over the channels\n",
    "        attributions = np.average(attributions, axis=2)\n",
    "\n",
    "        # 3. Apply linear transformation to the attributions\n",
    "        attributions = self.apply_linear_transformation(\n",
    "            attributions,\n",
    "            clip_above_percentile=clip_above_percentile,\n",
    "            clip_below_percentile=clip_below_percentile,\n",
    "            lower_end=0.0,\n",
    "        )\n",
    "\n",
    "        # 4. Cleanup\n",
    "        if morphological_cleanup:\n",
    "            attributions = self.morphological_cleanup_fn(\n",
    "                attributions, structure=structure\n",
    "            )\n",
    "        # 5. Draw the outlines\n",
    "        if outlines:\n",
    "            attributions = self.draw_outlines(\n",
    "                attributions, percentage=outlines_component_percentage\n",
    "            )\n",
    "\n",
    "        # 6. Expand the channel axis and convert to RGB\n",
    "        attributions = np.expand_dims(attributions, 2) * channel\n",
    "\n",
    "        # 7.Superimpose on the original image\n",
    "        if overlay:\n",
    "            attributions = np.clip((attributions * 0.8 + image), 0, 255)\n",
    "        return attributions\n",
    "\n",
    "    def visualize(\n",
    "        self,\n",
    "        image,\n",
    "        gradients,\n",
    "        integrated_gradients,\n",
    "        polarity=\"positive\",\n",
    "        clip_above_percentile=99.9,\n",
    "        clip_below_percentile=0,\n",
    "        morphological_cleanup=False,\n",
    "        structure=np.ones((3, 3)),\n",
    "        outlines=False,\n",
    "        outlines_component_percentage=90,\n",
    "        overlay=True,\n",
    "        figsize=(15, 8),\n",
    "    ):\n",
    "        # 1. Make two copies of the original image\n",
    "        img1 = np.copy(image)\n",
    "        img2 = np.copy(image)\n",
    "\n",
    "        # 2. Process the normal gradients\n",
    "        grads_attr = self.process_grads(\n",
    "            image=img1,\n",
    "            attributions=gradients,\n",
    "            polarity=polarity,\n",
    "            clip_above_percentile=clip_above_percentile,\n",
    "            clip_below_percentile=clip_below_percentile,\n",
    "            morphological_cleanup=morphological_cleanup,\n",
    "            structure=structure,\n",
    "            outlines=outlines,\n",
    "            outlines_component_percentage=outlines_component_percentage,\n",
    "            overlay=overlay,\n",
    "        )\n",
    "\n",
    "        # 3. Process the integrated gradients\n",
    "        igrads_attr = self.process_grads(\n",
    "            image=img2,\n",
    "            attributions=integrated_gradients,\n",
    "            polarity=polarity,\n",
    "            clip_above_percentile=clip_above_percentile,\n",
    "            clip_below_percentile=clip_below_percentile,\n",
    "            morphological_cleanup=morphological_cleanup,\n",
    "            structure=structure,\n",
    "            outlines=outlines,\n",
    "            outlines_component_percentage=outlines_component_percentage,\n",
    "            overlay=overlay,\n",
    "        )\n",
    "\n",
    "        _, ax = plt.subplots(1, 3, figsize=figsize)\n",
    "        ax[0].imshow(image)\n",
    "        ax[1].imshow(grads_attr.astype(np.uint8))\n",
    "        ax[2].imshow(igrads_attr.astype(np.uint8))\n",
    "\n",
    "        ax[0].set_title(\"Input\")\n",
    "        ax[1].set_title(\"Normal gradients\")\n",
    "        ax[2].set_title(\"Integrated gradients\")\n",
    "        plt.show()"
   ]
  },
  {
   "cell_type": "code",
   "execution_count": 400,
   "id": "401f3536",
   "metadata": {},
   "outputs": [
    {
     "data": {
      "text/plain": [
       "(28, 28, 3)"
      ]
     },
     "execution_count": 400,
     "metadata": {},
     "output_type": "execute_result"
    }
   ],
   "source": [
    "orig_img\n",
    "\n",
    "X_train[0].shape"
   ]
  },
  {
   "cell_type": "code",
   "execution_count": 401,
   "id": "8c3bd5af",
   "metadata": {},
   "outputs": [
    {
     "data": {
      "text/plain": [
       "TensorShape([1, 28, 28, 3])"
      ]
     },
     "execution_count": 401,
     "metadata": {},
     "output_type": "execute_result"
    }
   ],
   "source": [
    "image = tf.expand_dims(X_train[0], axis=0)\n",
    "image = tf.cast(image, dtype=tf.float32)\n",
    "# 2. Keep a copy of the original image\n",
    "image.shape\n"
   ]
  },
  {
   "cell_type": "code",
   "execution_count": 402,
   "id": "53daa063",
   "metadata": {},
   "outputs": [
    {
     "name": "stdout",
     "output_type": "stream",
     "text": [
      "1/1 [==============================] - 0s 94ms/step\n",
      "Predicted class index: tf.Tensor(5, shape=(), dtype=int64)\n"
     ]
    }
   ],
   "source": [
    "\n",
    "preds = cnn_minst.predict(image)\n",
    "top_pred_idx = tf.argmax(preds[0])\n",
    "print(\"Predicted class index:\", top_pred_idx)\n"
   ]
  },
  {
   "cell_type": "code",
   "execution_count": 403,
   "id": "6326a4d9",
   "metadata": {},
   "outputs": [
    {
     "data": {
      "text/plain": [
       "TensorShape([1, 28, 28, 1])"
      ]
     },
     "execution_count": 403,
     "metadata": {},
     "output_type": "execute_result"
    }
   ],
   "source": [
    "image_1 = tf.expand_dims(X_train_scaled[0], axis=0)\n",
    "image_1 = tf.cast(image_1, dtype=tf.float32)\n",
    "image_1.shape"
   ]
  },
  {
   "cell_type": "code",
   "execution_count": 404,
   "id": "0bb5cf16",
   "metadata": {},
   "outputs": [],
   "source": [
    "# 5. Get the gradients of the last layer for the predicted label\n",
    "grads = get_gradients(image, top_pred_idx=top_pred_idx)\n",
    "orig_img=X_train[0]"
   ]
  },
  {
   "cell_type": "code",
   "execution_count": 405,
   "id": "9a49baee",
   "metadata": {},
   "outputs": [
    {
     "data": {
      "image/png": "[encoded data removed]",
      "text/plain": [
       "<Figure size 1500x800 with 3 Axes>"
      ]
     },
     "metadata": {},
     "output_type": "display_data"
    },
    {
     "name": "stderr",
     "output_type": "stream",
     "text": [
      "C:\\Users\\Me\\AppData\\Local\\Temp\\ipykernel_14788\\3199753877.py:94: DeprecationWarning: Please use `label` from the `scipy.ndimage` namespace, the `scipy.ndimage.measurements` namespace is deprecated.\n",
      "  connected_components, num_comp = ndimage.measurements.label(\n"
     ]
    },
    {
     "data": {
      "image/png": "[encoded data removed]",
      "text/plain": [
       "<Figure size 1500x800 with 3 Axes>"
      ]
     },
     "metadata": {},
     "output_type": "display_data"
    }
   ],
   "source": [
    "\n",
    "# 6. Get the integrated gradients\n",
    "igrads = random_baseline_integrated_gradients(\n",
    "    np.copy(orig_img), top_pred_idx=top_pred_idx, num_steps=50, num_runs=2\n",
    ")\n",
    "\n",
    "# 7. Process the gradients and plot\n",
    "vis = GradVisualizer()\n",
    "vis.visualize(\n",
    "    image=orig_img,\n",
    "    gradients=grads[0].numpy(),\n",
    "    integrated_gradients=igrads.numpy(),\n",
    "    clip_above_percentile=99,\n",
    "    clip_below_percentile=0,\n",
    ")\n",
    "\n",
    "vis.visualize(\n",
    "    image=orig_img,\n",
    "    gradients=grads[0].numpy(),\n",
    "    integrated_gradients=igrads.numpy(),\n",
    "    clip_above_percentile=95,\n",
    "    clip_below_percentile=28,\n",
    "    morphological_cleanup=True,\n",
    "    outlines=True,\n",
    ")"
   ]
  }
 ],
 "metadata": {
  "kernelspec": {
   "display_name": "Python 3 (ipykernel)",
   "language": "python",
   "name": "python3"
  },
  "language_info": {
   "codemirror_mode": {
    "name": "ipython",
    "version": 3
   },
   "file_extension": ".py",
   "mimetype": "text/x-python",
   "name": "python",
   "nbconvert_exporter": "python",
   "pygments_lexer": "ipython3",
   "version": "3.10.10"
  }
 },
 "nbformat": 4,
 "nbformat_minor": 5
}
