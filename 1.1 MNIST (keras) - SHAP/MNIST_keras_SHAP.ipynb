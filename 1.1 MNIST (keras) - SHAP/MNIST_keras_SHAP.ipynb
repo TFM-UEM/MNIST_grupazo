{
  "cells": [
    {
      "cell_type": "markdown",
      "source": [
        "### Modelo Red Neuronal (keras)"
      ],
      "metadata": {
        "id": "clPgNNc307vR"
      }
    },
    {
      "cell_type": "markdown",
      "source": [
        "###### Paso 0 - Instalación de dependencias e importaciones de librerías"
      ],
      "metadata": {
        "id": "uzq290Ae1D1C"
      }
    },
    {
      "cell_type": "code",
      "execution_count": null,
      "metadata": {
        "colab": {
          "base_uri": "https://localhost:8080/"
        },
        "id": "OYde6ntA0Ecf",
        "outputId": "78833ee9-e088-4f2f-c950-c72cba40dd8f"
      },
      "outputs": [
        {
          "output_type": "stream",
          "name": "stdout",
          "text": [
            "Looking in indexes: https://pypi.org/simple, https://us-python.pkg.dev/colab-wheels/public/simple/\n",
            "Requirement already satisfied: shap in /usr/local/lib/python3.10/dist-packages (0.41.0)\n",
            "Requirement already satisfied: numpy in /usr/local/lib/python3.10/dist-packages (from shap) (1.22.4)\n",
            "Requirement already satisfied: scipy in /usr/local/lib/python3.10/dist-packages (from shap) (1.10.1)\n",
            "Requirement already satisfied: scikit-learn in /usr/local/lib/python3.10/dist-packages (from shap) (1.2.2)\n",
            "Requirement already satisfied: pandas in /usr/local/lib/python3.10/dist-packages (from shap) (1.5.3)\n",
            "Requirement already satisfied: tqdm>4.25.0 in /usr/local/lib/python3.10/dist-packages (from shap) (4.65.0)\n",
            "Requirement already satisfied: packaging>20.9 in /usr/local/lib/python3.10/dist-packages (from shap) (23.1)\n",
            "Requirement already satisfied: slicer==0.0.7 in /usr/local/lib/python3.10/dist-packages (from shap) (0.0.7)\n",
            "Requirement already satisfied: numba in /usr/local/lib/python3.10/dist-packages (from shap) (0.56.4)\n",
            "Requirement already satisfied: cloudpickle in /usr/local/lib/python3.10/dist-packages (from shap) (2.2.1)\n",
            "Requirement already satisfied: llvmlite<0.40,>=0.39.0dev0 in /usr/local/lib/python3.10/dist-packages (from numba->shap) (0.39.1)\n",
            "Requirement already satisfied: setuptools in /usr/local/lib/python3.10/dist-packages (from numba->shap) (67.7.2)\n",
            "Requirement already satisfied: python-dateutil>=2.8.1 in /usr/local/lib/python3.10/dist-packages (from pandas->shap) (2.8.2)\n",
            "Requirement already satisfied: pytz>=2020.1 in /usr/local/lib/python3.10/dist-packages (from pandas->shap) (2022.7.1)\n",
            "Requirement already satisfied: joblib>=1.1.1 in /usr/local/lib/python3.10/dist-packages (from scikit-learn->shap) (1.2.0)\n",
            "Requirement already satisfied: threadpoolctl>=2.0.0 in /usr/local/lib/python3.10/dist-packages (from scikit-learn->shap) (3.1.0)\n",
            "Requirement already satisfied: six>=1.5 in /usr/local/lib/python3.10/dist-packages (from python-dateutil>=2.8.1->pandas->shap) (1.16.0)\n"
          ]
        }
      ],
      "source": [
        "# Install dependencies here\n",
        "#%pip install keras\n",
        "#%pip install tensorflow\n",
        "\n",
        "%pip install shap"
      ]
    },
    {
      "cell_type": "code",
      "execution_count": null,
      "metadata": {
        "_uuid": "e5d71ebffaaa868cf3173b24a32fb478cf8b0d16",
        "id": "qYvv9nAd0Eck"
      },
      "outputs": [],
      "source": [
        "# Include your imports here\n",
        "\n",
        "import numpy as np\n",
        "import pandas as pd\n",
        "\n",
        "import matplotlib.pyplot as plt\n",
        "import keras\n",
        "import tensorflow as tf\n",
        "from keras.models import Sequential\n",
        "from keras.layers import Dense, Dropout, Flatten\n",
        "from keras.layers import Conv2D, MaxPooling2D\n",
        "from keras.optimizers import SGD\n",
        "from keras.preprocessing.image import ImageDataGenerator\n",
        "\n",
        "import shap\n",
        "\n",
        "#from keras.models import load_model\n",
        "#from tensorflow.keras import Model\n",
        "#from tensorflow.keras.layers import Dense, Flatten, Conv2D\n",
        "#from sklearn.model_selection import train_test_split\n",
        "#from sklearn.preprocessing import StandardScaler\n",
        "# import seaborn as sns\n",
        "\n",
        "# from sklearn.model_selection import GridSearchCV\n",
        "#https://www.tensorflow.org/tutorials/quickstart/advanced"
      ]
    },
    {
      "cell_type": "markdown",
      "source": [
        "##### Paso 1 - Carga de datos y preprocesamiento"
      ],
      "metadata": {
        "id": "6TIUgv8a1JUf"
      }
    },
    {
      "cell_type": "code",
      "execution_count": null,
      "metadata": {
        "_uuid": "7161040562b0e2263dea00d7955878d8095cc2d3",
        "colab": {
          "base_uri": "https://localhost:8080/"
        },
        "id": "T9rAgEch0Ecl",
        "outputId": "87ff8694-cc6a-45e9-84a5-53d531f64db3"
      },
      "outputs": [
        {
          "output_type": "stream",
          "name": "stdout",
          "text": [
            "(60000, 28, 28, 3)\n",
            "(10000, 28, 28, 3)\n"
          ]
        }
      ],
      "source": [
        "# Importamos el modelo de keras datasets Minst para facilitar el acceso y la lectura de datos\n",
        "mnist = tf.keras.datasets.mnist\n",
        "\n",
        "#Descargamos los datos de la database y realizamos las transformaciones y las normalizaciones pertienentes.\n",
        "(X_train, y_train), (X_test, y_test) = mnist.load_data()\n",
        "X_train, X_test = X_train / 255.0, X_test / 255.0\n",
        "\n",
        "# Incluimos una nueva dimension a nuestro dataset.\n",
        "X_train = X_train[..., tf.newaxis].astype(\"float32\")\n",
        "X_test = X_test[..., tf.newaxis].astype(\"float32\")\n",
        "\n",
        "X_train = tf.convert_to_tensor(X_train, dtype=tf.float32)\n",
        "X_test= tf.convert_to_tensor(X_test, dtype=tf.float32)\n",
        "\n",
        "\n",
        "#y_train = keras.utils.to_categorical(y_train, 10)\n",
        "#y_test = keras.utils.to_categorical(y_test, 10)\n",
        "\n",
        "\n",
        "# Creamos la función que adapta los datos.\n",
        "def to_rgb(x):\n",
        "    x_rgb = np.zeros((x.shape[0], 28, 28, 3))\n",
        "    for i in range(3):\n",
        "        x_rgb[..., i] = x[..., 0]\n",
        "    return x_rgb\n",
        "\n",
        "# Convertimos los datos al formato que posteriormente necesitaremos.\n",
        "X_train = to_rgb(X_train)\n",
        "X_test = to_rgb(X_test)\n",
        "\n",
        "#Comprobamos que se ha incluido correctamente la nueva dimension a nuestro dataset.\n",
        "print(X_train.shape)\n",
        "print(X_test.shape)"
      ]
    },
    {
      "cell_type": "code",
      "execution_count": null,
      "metadata": {
        "id": "OZBG0NL20Ecn"
      },
      "outputs": [],
      "source": [
        "#Se asemeja al Dataloader de Pytorch, transforamos a Tensor y realizamos los batches.\n",
        "train_ds = tf.data.Dataset.from_tensor_slices(\n",
        "    (X_train, y_train)).shuffle(10000).batch(32)\n",
        "\n",
        "test_ds = tf.data.Dataset.from_tensor_slices((X_test, y_test)).batch(32)"
      ]
    },
    {
      "cell_type": "markdown",
      "source": [
        "##### Paso 2 - Creación de la red neuronal"
      ],
      "metadata": {
        "id": "J_K3ZCav1PwR"
      }
    },
    {
      "cell_type": "code",
      "execution_count": null,
      "metadata": {
        "id": "3frjA8Lh0Eco"
      },
      "outputs": [],
      "source": [
        "#Creación de la estructura de la red neuronal (Keras)\n",
        "\n",
        "model = Sequential()\n",
        "\n",
        "model.add(Conv2D(32, 3, activation='relu', input_shape=(28,28,3)))\n",
        "model.add(MaxPooling2D((2, 2)))\n",
        "model.add(Flatten())\n",
        "model.add(Dense(128, activation='relu'))\n",
        "model.add(Dense(10, activation='softmax'))\n",
        "\n",
        "#Función de perdida\n",
        "loss_object = tf.keras.losses.SparseCategoricalCrossentropy(from_logits=True)\n",
        "\n",
        "#Optimizador\n",
        "optimizer = tf.keras.optimizers.SGD()\n",
        "\n",
        "#Compilamos\n",
        "model.compile(optimizer=optimizer, loss=loss_object, metrics=['accuracy'])\n"
      ]
    },
    {
      "cell_type": "code",
      "source": [
        "BATCH_SIZE = 128\n",
        "EPOCHS = 10\n",
        "\n",
        "#Entrenamos\n",
        "model.fit(X_train, y_train,\n",
        "          batch_size=BATCH_SIZE,\n",
        "          epochs=EPOCHS,\n",
        "          verbose=1,\n",
        "          validation_data=(X_test, y_test))"
      ],
      "metadata": {
        "colab": {
          "base_uri": "https://localhost:8080/"
        },
        "id": "YvcKIEYbB0IU",
        "outputId": "55bf5eaf-1e41-4e19-dc08-357a4a4fe640"
      },
      "execution_count": null,
      "outputs": [
        {
          "output_type": "stream",
          "name": "stdout",
          "text": [
            "Epoch 1/10\n"
          ]
        },
        {
          "output_type": "stream",
          "name": "stderr",
          "text": [
            "/usr/local/lib/python3.10/dist-packages/keras/backend.py:5612: UserWarning: \"`sparse_categorical_crossentropy` received `from_logits=True`, but the `output` argument was produced by a Softmax activation and thus does not represent logits. Was this intended?\n",
            "  output, from_logits = _get_logits(\n"
          ]
        },
        {
          "output_type": "stream",
          "name": "stdout",
          "text": [
            "469/469 [==============================] - 41s 85ms/step - loss: 0.6780 - accuracy: 0.8195 - val_loss: 0.3046 - val_accuracy: 0.9152\n",
            "Epoch 2/10\n",
            "469/469 [==============================] - 46s 98ms/step - loss: 0.2904 - accuracy: 0.9152 - val_loss: 0.2623 - val_accuracy: 0.9238\n",
            "Epoch 3/10\n",
            "469/469 [==============================] - 43s 91ms/step - loss: 0.2397 - accuracy: 0.9299 - val_loss: 0.2062 - val_accuracy: 0.9410\n",
            "Epoch 4/10\n",
            "469/469 [==============================] - 50s 107ms/step - loss: 0.2056 - accuracy: 0.9410 - val_loss: 0.1813 - val_accuracy: 0.9460\n",
            "Epoch 5/10\n",
            "469/469 [==============================] - 45s 96ms/step - loss: 0.1799 - accuracy: 0.9476 - val_loss: 0.1615 - val_accuracy: 0.9530\n",
            "Epoch 6/10\n",
            "469/469 [==============================] - 47s 99ms/step - loss: 0.1602 - accuracy: 0.9541 - val_loss: 0.1481 - val_accuracy: 0.9587\n",
            "Epoch 7/10\n",
            "469/469 [==============================] - 44s 94ms/step - loss: 0.1441 - accuracy: 0.9577 - val_loss: 0.1302 - val_accuracy: 0.9605\n",
            "Epoch 8/10\n",
            "469/469 [==============================] - 42s 91ms/step - loss: 0.1313 - accuracy: 0.9622 - val_loss: 0.1248 - val_accuracy: 0.9645\n",
            "Epoch 9/10\n",
            "469/469 [==============================] - 48s 101ms/step - loss: 0.1214 - accuracy: 0.9641 - val_loss: 0.1138 - val_accuracy: 0.9672\n",
            "Epoch 10/10\n",
            "469/469 [==============================] - 41s 87ms/step - loss: 0.1120 - accuracy: 0.9675 - val_loss: 0.1094 - val_accuracy: 0.9678\n"
          ]
        },
        {
          "output_type": "execute_result",
          "data": {
            "text/plain": [
              "<keras.callbacks.History at 0x7f17a4cd3dc0>"
            ]
          },
          "metadata": {},
          "execution_count": 6
        }
      ]
    },
    {
      "cell_type": "markdown",
      "source": [
        "##### Paso 3 - Evaluación de resultados"
      ],
      "metadata": {
        "id": "mn3sqmTnWwJb"
      }
    },
    {
      "cell_type": "code",
      "source": [
        "#Resultados\n",
        "score = model.evaluate(X_test, y_test, verbose=0)\n",
        "print('Test loss:', score[0])\n",
        "print('Test accuracy:', score[1])"
      ],
      "metadata": {
        "colab": {
          "base_uri": "https://localhost:8080/"
        },
        "id": "_nDn-_QoOKXV",
        "outputId": "6a64a5c5-0818-437e-bcaf-0a6ee4fe7097"
      },
      "execution_count": null,
      "outputs": [
        {
          "output_type": "stream",
          "name": "stdout",
          "text": [
            "Test loss: 0.10944661498069763\n",
            "Test accuracy: 0.9678000211715698\n"
          ]
        }
      ]
    },
    {
      "cell_type": "markdown",
      "source": [
        "## Interpretabilidad del modelo - SHAP"
      ],
      "metadata": {
        "id": "SlPuGZmSW1DC"
      }
    },
    {
      "cell_type": "code",
      "source": [
        "# select a set of background examples to take an expectation over\n",
        "background = X_train[np.random.choice(X_train.shape[0], 100, replace=False)]\n",
        "\n",
        "# explain predictions of the model on three images\n",
        "e = shap.DeepExplainer(model, background)\n",
        "# ...or pass tensors directly\n",
        "# e = shap.DeepExplainer((model.layers[0].input, model.layers[-1].output), background)\n",
        "shap_values = e.shap_values(X_test[1:5])"
      ],
      "metadata": {
        "id": "x50tP1D3NeJy"
      },
      "execution_count": null,
      "outputs": []
    },
    {
      "cell_type": "code",
      "source": [
        "# plot the feature attributions\n",
        "shap.image_plot(shap_values, X_test[1:5])"
      ],
      "metadata": {
        "colab": {
          "base_uri": "https://localhost:8080/",
          "height": 331
        },
        "id": "_u245g_DODEj",
        "outputId": "ebaaa316-161b-4dcf-c11c-48e1ef50c510"
      },
      "execution_count": null,
      "outputs": [
        {
          "output_type": "display_data",
          "data": {
            "text/plain": [
              "<Figure size 2000x757.576 with 45 Axes>"
            ],
            "image/png": "[encoded data removed]"
          },
          "metadata": {}
        }
      ]
    }
  ],
  "metadata": {
    "kernelspec": {
      "display_name": "Python 3 (ipykernel)",
      "language": "python",
      "name": "python3"
    },
    "language_info": {
      "codemirror_mode": {
        "name": "ipython",
        "version": 3
      },
      "file_extension": ".py",
      "mimetype": "text/x-python",
      "name": "python",
      "nbconvert_exporter": "python",
      "pygments_lexer": "ipython3",
      "version": "3.9.13"
    },
    "colab": {
      "provenance": [],
      "toc_visible": true
    }
  },
  "nbformat": 4,
  "nbformat_minor": 0
}