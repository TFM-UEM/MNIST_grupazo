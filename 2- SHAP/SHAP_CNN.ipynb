{
 "cells": [
  {
   "cell_type": "code",
   "execution_count": 391,
   "id": "1da02378",
   "metadata": {},
   "outputs": [],
   "source": [
    "import numpy as np\n",
    "import pandas as pd\n",
    "from keras.models import load_model\n",
    "from tensorflow.keras.datasets import mnist\n",
    "\n",
    "import matplotlib.pylab as plt\n",
    "import numpy as np\n",
    "import tensorflow as tf\n",
    "\n",
    "\n",
    "\n",
    "import matplotlib.pyplot as plt\n",
    "from scipy import ndimage\n",
    "from IPython.display import Image\n",
    "\n",
    "import tensorflow as tf\n",
    "from tensorflow import keras\n",
    "from keras import layers\n",
    "\n",
    "\n",
    "\n",
    "#https://keras.io/examples/vision/integrated_gradients/#lets-testdrive-it\n"
   ]
  },
  {
   "cell_type": "code",
   "execution_count": 392,
   "id": "82636994",
   "metadata": {},
   "outputs": [
    {
     "name": "stdout",
     "output_type": "stream",
     "text": [
      "Model: \"sequential_19\"\n",
      "_________________________________________________________________\n",
      " Layer (type)                Output Shape              Param #   \n",
      "=================================================================\n",
      " conv2d_19 (Conv2D)          (None, 26, 26, 32)        896       \n",
      "                                                                 \n",
      " max_pooling2d_19 (MaxPoolin  (None, 13, 13, 32)       0         \n",
      " g2D)                                                            \n",
      "                                                                 \n",
      " flatten_19 (Flatten)        (None, 5408)              0         \n",
      "                                                                 \n",
      " dense_38 (Dense)            (None, 128)               692352    \n",
      "                                                                 \n",
      " dense_39 (Dense)            (None, 10)                1290      \n",
      "                                                                 \n",
      "=================================================================\n",
      "Total params: 694,538\n",
      "Trainable params: 694,538\n",
      "Non-trainable params: 0\n",
      "_________________________________________________________________\n"
     ]
    }
   ],
   "source": [
    "# Cargamos el modelo guardado.\n",
    "cnn_minst = load_model('../Notebook Keras/trained_model/')\n",
    "\n",
    "# Comprobamos que se ha cargado bien visualizando la secuencia de capas.\n",
    "# Size of the input image\n",
    "img_size = (28, 28, 3)\n",
    "\n",
    "cnn_minst.summary()"
   ]
  },
  {
   "cell_type": "code",
   "execution_count": 393,
   "id": "9bd60e34",
   "metadata": {},
   "outputs": [],
   "source": [
    "# Cargamos los datos de entrenamiento y prueba en sendos arrays.\n",
    "(X_train, y_train), (X_test, y_test) = mnist.load_data()\n",
    "X_train_scaled = X_train / 255.0\n",
    "X_test_scaled = X_test / 255.0\n",
    "\n",
    "X_train = X_train.reshape((-1,28,28,1)) / 255.0 \n",
    "X_test = X_test.reshape((-1,28,28,1)) / 255.0 \n",
    "\n",
    "\n",
    "\n",
    "X_train_scaled = X_train_scaled.reshape((-1,28,28,1)) / 255.0 \n",
    "X_test_scaled = X_test_scaled.reshape((-1,28,28,1)) / 255.0 \n"
   ]
  },
  {
   "attachments": {},
   "cell_type": "markdown",
   "id": "d9e2bc53",
   "metadata": {},
   "source": [
    "Transformamos nuestra funcion a 3 canales"
   ]
  },
  {
   "cell_type": "code",
   "execution_count": 394,
   "id": "7bc5fe87",
   "metadata": {},
   "outputs": [],
   "source": [
    "# Creamos la función de conversión al tipo RGB.\n",
    "import numpy as np\n",
    "def to_rgb(x):\n",
    "    x_rgb = np.zeros((x.shape[0], 28, 28, 3))\n",
    "    for i in range(3):\n",
    "        x_rgb[..., i] = x[..., 0]\n",
    "    return x_rgb\n",
    "\n",
    "# La aplicamos a los dos data sets.\n",
    "X_train = to_rgb(X_train)\n",
    "X_test = to_rgb(X_test)"
   ]
  },
  {
   "cell_type": "code",
   "execution_count": 395,
   "id": "26186278",
   "metadata": {},
   "outputs": [
    {
     "name": "stdout",
     "output_type": "stream",
     "text": [
      "(60000, 28, 28, 3) (10000, 28, 28, 3)\n"
     ]
    }
   ],
   "source": [
    "print(X_train.shape, X_test.shape)"
   ]
  },
  {
   "attachments": {},
   "cell_type": "markdown",
   "id": "c7998e53",
   "metadata": {},
   "source": [
    "### SHAP"
   ]
  }
 ],
 "metadata": {
  "kernelspec": {
   "display_name": "Python 3 (ipykernel)",
   "language": "python",
   "name": "python3"
  },
  "language_info": {
   "codemirror_mode": {
    "name": "ipython",
    "version": 3
   },
   "file_extension": ".py",
   "mimetype": "text/x-python",
   "name": "python",
   "nbconvert_exporter": "python",
   "pygments_lexer": "ipython3",
   "version": "3.10.10"
  }
 },
 "nbformat": 4,
 "nbformat_minor": 5
}
